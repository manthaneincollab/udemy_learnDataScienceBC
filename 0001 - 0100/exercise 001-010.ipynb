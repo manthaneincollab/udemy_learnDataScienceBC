{
 "cells": [
  {
   "cell_type": "markdown",
   "id": "c449809f-fe00-4dc9-9f22-7782a1a21b31",
   "metadata": {},
   "source": [
    "Exercise 1: Inspecting a Array NumPy"
   ]
  },
  {
   "cell_type": "code",
   "execution_count": 3,
   "id": "66ff7e9f-234e-4e53-ac48-b4abc96b7dd3",
   "metadata": {},
   "outputs": [
    {
     "name": "stdout",
     "output_type": "stream",
     "text": [
      "Shape: (4,)\n",
      "Size: 4\n",
      "ndim: 1\n",
      "nbytes: 16\n",
      "dtype: int32\n"
     ]
    }
   ],
   "source": [
    "import numpy  as np\n",
    "array = np.array([1,2,3,4])\n",
    "print('Shape:', array.shape) \n",
    "print('Size:', array.size)\n",
    "print('ndim:', array.ndim) \n",
    "print('nbytes:', array.nbytes) \n",
    "print('dtype:', array.dtype) "
   ]
  },
  {
   "cell_type": "markdown",
   "id": "64c71e69-1a65-430b-b0e8-f5859d9349d5",
   "metadata": {},
   "source": [
    "Exercise 2: Function to check if numpy array and output it's properties"
   ]
  },
  {
   "cell_type": "code",
   "execution_count": 22,
   "id": "7b0f69aa-117d-497f-8267-5317ad13a7f2",
   "metadata": {},
   "outputs": [
    {
     "name": "stdout",
     "output_type": "stream",
     "text": [
      "Shape: (3,)\n",
      "Size: 3\n",
      "ndim: 1\n",
      "nbytes: 12\n",
      "dtype: int32\n",
      "dtype: <class 'numpy.ndarray'>\n",
      "[1 2 3]\n",
      "The inserted object is not a Numpy array.\n"
     ]
    }
   ],
   "source": [
    "import numpy  as np\n",
    "\n",
    "def inspect_array(array):\n",
    "    if type(array) == np.ndarray:\n",
    "        print('Shape:', array.shape) \n",
    "        print('Size:', array.size)\n",
    "        print('ndim:', array.ndim) \n",
    "        print('nbytes:', array.nbytes) \n",
    "        print('dtype:', array.dtype) \n",
    "        print('dtype:', type(array))\n",
    "    else:\n",
    "        print('The inserted object is not a Numpy array.')\n",
    "\n",
    "inspect_array(np.array([1,2,3])) \n",
    "inspect_array([1,2,3]) \n",
    "\n",
    "    "
   ]
  },
  {
   "cell_type": "markdown",
   "id": "dd8ac54a-db05-4cbe-b0eb-9b6dced9fa31",
   "metadata": {},
   "source": [
    "Exercise 3 : creating one-dimension array"
   ]
  },
  {
   "cell_type": "code",
   "execution_count": 28,
   "id": "8c5bf98b-fed1-4c2f-ab1c-1ddd58a60b69",
   "metadata": {},
   "outputs": [
    {
     "name": "stdout",
     "output_type": "stream",
     "text": [
      "npa: [-1  4  7  9]\n",
      "npb: [ 1  2  3  4  5  6  7  8  9 10]\n",
      "npc: [10 11 12 13 14]\n",
      "npd: [1990 1995 2000 2005 2010 2015 2020]\n",
      "npe: [2020 2010 2000 1990 1980 1970 1960 1950 1940 1930 1920 1910 1900]\n",
      "npf: [100]\n"
     ]
    }
   ],
   "source": [
    "import numpy as np\n",
    "\n",
    "npa = np.array([-1,  4,  7,  9]) \n",
    "print(\"npa:\",npa)\n",
    "\n",
    "npb = np.array(range(1,11,1)) \n",
    "print(\"npb:\",npb)\n",
    "\n",
    "npc = np.array((10,11,12,13,14)) \n",
    "print(\"npc:\",npc)\n",
    "\n",
    "npd = np.array(range(1990,2021,5)) \n",
    "print(\"npd:\",npd)\n",
    "\n",
    "npe = np.array(range(2020,1899,-10)) \n",
    "print(\"npe:\",npe)\n",
    "\n",
    "npf = np.array([100]) \n",
    "print(\"npf:\",npf)\n"
   ]
  },
  {
   "cell_type": "markdown",
   "id": "fa37a768-6c61-44d5-b004-cb921e217404",
   "metadata": {},
   "source": [
    "Exercise 4 : np.ones"
   ]
  },
  {
   "cell_type": "code",
   "execution_count": 32,
   "id": "cd20d6f8-e107-494b-b4e0-54bacdbc705c",
   "metadata": {},
   "outputs": [
    {
     "name": "stdout",
     "output_type": "stream",
     "text": [
      "npa: [1. 1. 1. 1. 1. 1. 1. 1. 1. 1.]\n",
      "npb: [[1. 1. 1. 1.]\n",
      " [1. 1. 1. 1.]\n",
      " [1. 1. 1. 1.]\n",
      " [1. 1. 1. 1.]]\n",
      "npc: [[1. 1.]\n",
      " [1. 1.]\n",
      " [1. 1.]]\n"
     ]
    }
   ],
   "source": [
    "import numpy as np \n",
    "\n",
    "npa = np.ones(shape=(10)) \n",
    "npb = np.ones(shape=(4,4)) \n",
    "npc = np.ones(shape=(3,2)) \n",
    "\n",
    "print(\"npa:\", npa)\n",
    "print(\"npb:\", npb)\n",
    "print(\"npc:\", npc)"
   ]
  },
  {
   "cell_type": "markdown",
   "id": "87a38006-e422-4c0b-8fb2-9ddf9e1ce64e",
   "metadata": {},
   "source": [
    "Exercise 5: np.zeroes"
   ]
  },
  {
   "cell_type": "code",
   "execution_count": 1,
   "id": "b258e015-da8a-425e-804c-6837b3a778a4",
   "metadata": {},
   "outputs": [
    {
     "name": "stdout",
     "output_type": "stream",
     "text": [
      "npa: [0. 0. 0. 0. 0. 0. 0. 0. 0. 0.]\n",
      "npb: [[0. 0.]\n",
      " [0. 0.]]\n",
      "npc: [[0. 0. 0. 0. 0. 0.]\n",
      " [0. 0. 0. 0. 0. 0.]\n",
      " [0. 0. 0. 0. 0. 0.]\n",
      " [0. 0. 0. 0. 0. 0.]]\n"
     ]
    }
   ],
   "source": [
    "import numpy as np \n",
    "\n",
    "npa = np.zeros(shape=(10)) \n",
    "npb = np.zeros(shape=(2,2)) \n",
    "npc = np.zeros(shape=(4,6)) \n",
    "\n",
    "print(\"npa:\", npa)\n",
    "print(\"npb:\", npb)\n",
    "print(\"npc:\", npc)"
   ]
  },
  {
   "cell_type": "markdown",
   "id": "b8211f9f-2919-410e-962a-c012e612605a",
   "metadata": {},
   "source": [
    "Exercise 6: np.arange ang  range"
   ]
  },
  {
   "cell_type": "code",
   "execution_count": 16,
   "id": "12b915bf-9a04-435c-b47a-951dbe6f2786",
   "metadata": {},
   "outputs": [
    {
     "name": "stdout",
     "output_type": "stream",
     "text": [
      "npa: [[10]\n",
      " [15]\n",
      " [20]\n",
      " [25]\n",
      " [30]\n",
      " [35]\n",
      " [40]\n",
      " [45]]\n",
      "npb: [-50 -45 -40 -35 -30 -25 -20 -15 -10  -5]\n",
      "npc: [[ 50  52  54  56  58  60  62  64  66  68]\n",
      " [ 70  72  74  76  78  80  82  84  86  88]\n",
      " [ 90  92  94  96  98 100 102 104 106 108]\n",
      " [110 112 114 116 118 120 122 124 126 128]\n",
      " [130 132 134 136 138 140 142 144 146 148]]\n"
     ]
    }
   ],
   "source": [
    "import numpy as np \n",
    "\n",
    "npa = np.arange(start=10, stop=50, step=5).reshape(8,1) \n",
    "npb = np.arange(start=-50, stop=0, step=5)\n",
    "npc =  np.array( [range(50, 150, 2)  ]) .reshape(5,10) \n",
    "\n",
    "\n",
    "print(\"npa:\", npa)\n",
    "print(\"npb:\", npb)\n",
    "print(\"npc:\", npc)\n"
   ]
  },
  {
   "cell_type": "markdown",
   "id": "5c210ecd-fa8d-4495-8fe1-ab24137f0e65",
   "metadata": {},
   "source": [
    "Exercise 7: np.full "
   ]
  },
  {
   "cell_type": "code",
   "execution_count": 20,
   "id": "7baefe3d-d40b-4706-999e-742eb0f3cc4e",
   "metadata": {},
   "outputs": [
    {
     "name": "stdout",
     "output_type": "stream",
     "text": [
      "npa: [[5. 5. 5. 5. 5. 5. 5. 5. 5. 5.]]\n",
      "npb: [[-5. -5. -5. -5.]\n",
      " [-5. -5. -5. -5.]\n",
      " [-5. -5. -5. -5.]\n",
      " [-5. -5. -5. -5.]]\n",
      "npc: [[3 3 3]\n",
      " [3 3 3]\n",
      " [3 3 3]]\n",
      "npd: [[50 50 50 50 50 50 50 50 50 50]\n",
      " [50 50 50 50 50 50 50 50 50 50]\n",
      " [50 50 50 50 50 50 50 50 50 50]\n",
      " [50 50 50 50 50 50 50 50 50 50]\n",
      " [50 50 50 50 50 50 50 50 50 50]\n",
      " [50 50 50 50 50 50 50 50 50 50]\n",
      " [50 50 50 50 50 50 50 50 50 50]\n",
      " [50 50 50 50 50 50 50 50 50 50]\n",
      " [50 50 50 50 50 50 50 50 50 50]\n",
      " [50 50 50 50 50 50 50 50 50 50]]\n"
     ]
    }
   ],
   "source": [
    "import numpy as np \n",
    "\n",
    "npa = np.full(shape=(1,10),fill_value=5, dtype=float) \n",
    "npb = np.full(shape=(4,4),fill_value=-5, dtype=float) \n",
    "npc = np.full(shape=(3,3),fill_value=3, dtype=int) \n",
    "npd = np.full(shape=(10,10),fill_value=50, dtype=int) \n",
    "\n",
    "print(\"npa:\", npa)\n",
    "print(\"npb:\", npb)\n",
    "print(\"npc:\", npc)\n",
    "print(\"npd:\", npd)\n"
   ]
  },
  {
   "cell_type": "markdown",
   "id": "bd5703ae-586b-429c-ae7b-28ca5475c06a",
   "metadata": {},
   "source": [
    "Exercise 8: K array and np.isnan()"
   ]
  },
  {
   "cell_type": "code",
   "execution_count": 29,
   "id": "5445b9c8-a314-4675-a60d-680e25d0cfd4",
   "metadata": {},
   "outputs": [
    {
     "name": "stdout",
     "output_type": "stream",
     "text": [
      "There are 8 missing data in K.\n"
     ]
    }
   ],
   "source": [
    "import numpy as np \n",
    "\n",
    "k = np.array([[ np.nan,   1.,  10.,   0.],\n",
    "       [ np.nan,  np.nan,  np.nan,  np.nan],\n",
    "       [100.,  50.,  np.nan, -25.],\n",
    "       [ 30.,  np.nan,  np.nan, 130.]])\n",
    "\n",
    "print(f'There are {np.isnan(K).sum()} missing data in K.')"
   ]
  },
  {
   "cell_type": "code",
   "execution_count": null,
   "id": "fd8aee0a-5d9b-4246-9e0b-13c5afa4472a",
   "metadata": {},
   "outputs": [],
   "source": [
    "Exercise 9: linspace"
   ]
  },
  {
   "cell_type": "code",
   "execution_count": 30,
   "id": "58ab4ba5-bb35-44e7-933f-f2b7fe776c6d",
   "metadata": {},
   "outputs": [
    {
     "name": "stdout",
     "output_type": "stream",
     "text": [
      "npa: [ 1.  6. 11. 16. 21.]\n"
     ]
    }
   ],
   "source": [
    "import numpy as np \n",
    "\n",
    "npa = np.linspace(start=1,  stop=21 , num=5 )\n",
    "\n",
    "print(\"npa:\", npa)\n",
    " "
   ]
  },
  {
   "cell_type": "markdown",
   "id": "a2b7632f-e0ad-4b9f-9613-ad73d758fa45",
   "metadata": {},
   "source": [
    "Exercise 10: logspace"
   ]
  },
  {
   "cell_type": "code",
   "execution_count": 34,
   "id": "7bbf580e-ba3d-4115-8631-8a6ec1fad49e",
   "metadata": {},
   "outputs": [
    {
     "name": "stdout",
     "output_type": "stream",
     "text": [
      "npa: [[1.00000000e+01]\n",
      " [3.59381366e+06]\n",
      " [1.29154967e+12]\n",
      " [4.64158883e+17]\n",
      " [1.66810054e+23]\n",
      " [5.99484250e+28]\n",
      " [2.15443469e+34]\n",
      " [7.74263683e+39]\n",
      " [2.78255940e+45]\n",
      " [1.00000000e+51]]\n"
     ]
    }
   ],
   "source": [
    "import numpy as np \n",
    "\n",
    "npa = np.logspace(start=1,  stop=51 , num=10 ).reshape((1,1))\n",
    "\n",
    "print(\"npa:\", npa)\n",
    " "
   ]
  },
  {
   "cell_type": "code",
   "execution_count": null,
   "id": "1d59a1af-e32e-4418-bf1e-184774854919",
   "metadata": {},
   "outputs": [],
   "source": []
  }
 ],
 "metadata": {
  "kernelspec": {
   "display_name": "Python 3 (ipykernel)",
   "language": "python",
   "name": "python3"
  },
  "language_info": {
   "codemirror_mode": {
    "name": "ipython",
    "version": 3
   },
   "file_extension": ".py",
   "mimetype": "text/x-python",
   "name": "python",
   "nbconvert_exporter": "python",
   "pygments_lexer": "ipython3",
   "version": "3.8.19"
  }
 },
 "nbformat": 4,
 "nbformat_minor": 5
}
