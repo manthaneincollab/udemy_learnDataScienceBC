{
 "cells": [
  {
   "cell_type": "markdown",
   "id": "c449809f-fe00-4dc9-9f22-7782a1a21b31",
   "metadata": {},
   "source": [
    "Exercise 1: Inspecting a Array NumPy"
   ]
  },
  {
   "cell_type": "code",
   "execution_count": 3,
   "id": "66ff7e9f-234e-4e53-ac48-b4abc96b7dd3",
   "metadata": {},
   "outputs": [
    {
     "name": "stdout",
     "output_type": "stream",
     "text": [
      "Shape: (4,)\n",
      "Size: 4\n",
      "ndim: 1\n",
      "nbytes: 16\n",
      "dtype: int32\n"
     ]
    }
   ],
   "source": [
    "import numpy  as np\n",
    "array = np.array([1,2,3,4])\n",
    "print('Shape:', array.shape) \n",
    "print('Size:', array.size)\n",
    "print('ndim:', array.ndim) \n",
    "print('nbytes:', array.nbytes) \n",
    "print('dtype:', array.dtype) "
   ]
  },
  {
   "cell_type": "markdown",
   "id": "64c71e69-1a65-430b-b0e8-f5859d9349d5",
   "metadata": {},
   "source": [
    "Exercise 2: Function to check if numpy array and output it's properties"
   ]
  },
  {
   "cell_type": "code",
   "execution_count": 22,
   "id": "7b0f69aa-117d-497f-8267-5317ad13a7f2",
   "metadata": {},
   "outputs": [
    {
     "name": "stdout",
     "output_type": "stream",
     "text": [
      "Shape: (3,)\n",
      "Size: 3\n",
      "ndim: 1\n",
      "nbytes: 12\n",
      "dtype: int32\n",
      "dtype: <class 'numpy.ndarray'>\n",
      "[1 2 3]\n",
      "The inserted object is not a Numpy array.\n"
     ]
    }
   ],
   "source": [
    "import numpy  as np\n",
    "\n",
    "def inspect_array(array):\n",
    "    if type(array) == np.ndarray:\n",
    "        print('Shape:', array.shape) \n",
    "        print('Size:', array.size)\n",
    "        print('ndim:', array.ndim) \n",
    "        print('nbytes:', array.nbytes) \n",
    "        print('dtype:', array.dtype) \n",
    "        print('dtype:', type(array))\n",
    "    else:\n",
    "        print('The inserted object is not a Numpy array.')\n",
    "\n",
    "inspect_array(np.array([1,2,3])) \n",
    "inspect_array([1,2,3]) \n",
    "\n",
    "    "
   ]
  },
  {
   "cell_type": "markdown",
   "id": "dd8ac54a-db05-4cbe-b0eb-9b6dced9fa31",
   "metadata": {},
   "source": [
    "Exercise 3 : creating one-dimension array"
   ]
  },
  {
   "cell_type": "code",
   "execution_count": 28,
   "id": "8c5bf98b-fed1-4c2f-ab1c-1ddd58a60b69",
   "metadata": {},
   "outputs": [
    {
     "name": "stdout",
     "output_type": "stream",
     "text": [
      "npa: [-1  4  7  9]\n",
      "npb: [ 1  2  3  4  5  6  7  8  9 10]\n",
      "npc: [10 11 12 13 14]\n",
      "npd: [1990 1995 2000 2005 2010 2015 2020]\n",
      "npe: [2020 2010 2000 1990 1980 1970 1960 1950 1940 1930 1920 1910 1900]\n",
      "npf: [100]\n"
     ]
    }
   ],
   "source": [
    "import numpy as np\n",
    "\n",
    "npa = np.array([-1,  4,  7,  9]) \n",
    "print(\"npa:\",npa)\n",
    "\n",
    "npb = np.array(range(1,11,1)) \n",
    "print(\"npb:\",npb)\n",
    "\n",
    "npc = np.array((10,11,12,13,14)) \n",
    "print(\"npc:\",npc)\n",
    "\n",
    "npd = np.array(range(1990,2021,5)) \n",
    "print(\"npd:\",npd)\n",
    "\n",
    "npe = np.array(range(2020,1899,-10)) \n",
    "print(\"npe:\",npe)\n",
    "\n",
    "npf = np.array([100]) \n",
    "print(\"npf:\",npf)\n"
   ]
  },
  {
   "cell_type": "markdown",
   "id": "fa37a768-6c61-44d5-b004-cb921e217404",
   "metadata": {},
   "source": [
    "Exercise 4 : "
   ]
  },
  {
   "cell_type": "code",
   "execution_count": 32,
   "id": "cd20d6f8-e107-494b-b4e0-54bacdbc705c",
   "metadata": {},
   "outputs": [
    {
     "name": "stdout",
     "output_type": "stream",
     "text": [
      "npa: [1. 1. 1. 1. 1. 1. 1. 1. 1. 1.]\n",
      "npb: [[1. 1. 1. 1.]\n",
      " [1. 1. 1. 1.]\n",
      " [1. 1. 1. 1.]\n",
      " [1. 1. 1. 1.]]\n",
      "npc: [[1. 1.]\n",
      " [1. 1.]\n",
      " [1. 1.]]\n"
     ]
    }
   ],
   "source": [
    "import numpy as np \n",
    "\n",
    "npa = np.ones(shape=(10)) \n",
    "npb = np.ones(shape=(4,4)) \n",
    "npc = np.ones(shape=(3,2)) \n",
    "\n",
    "print(\"npa:\", npa)\n",
    "print(\"npb:\", npb)\n",
    "print(\"npc:\", npc)"
   ]
  },
  {
   "cell_type": "code",
   "execution_count": null,
   "id": "8e53e404-3870-4a38-8930-1e994e26abed",
   "metadata": {},
   "outputs": [],
   "source": []
  }
 ],
 "metadata": {
  "kernelspec": {
   "display_name": "Python 3 (ipykernel)",
   "language": "python",
   "name": "python3"
  },
  "language_info": {
   "codemirror_mode": {
    "name": "ipython",
    "version": 3
   },
   "file_extension": ".py",
   "mimetype": "text/x-python",
   "name": "python",
   "nbconvert_exporter": "python",
   "pygments_lexer": "ipython3",
   "version": "3.11.9"
  }
 },
 "nbformat": 4,
 "nbformat_minor": 5
}
