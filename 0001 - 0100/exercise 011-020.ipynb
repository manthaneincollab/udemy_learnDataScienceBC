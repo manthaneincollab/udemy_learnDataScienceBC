{
 "cells": [
  {
   "cell_type": "markdown",
   "id": "50473094-0861-4a65-9256-94171b8fda60",
   "metadata": {},
   "source": [
    "exersize 11: np.diag"
   ]
  },
  {
   "cell_type": "code",
   "execution_count": 6,
   "id": "324c495c-aa6a-4c4f-ba31-0e97851ca853",
   "metadata": {},
   "outputs": [
    {
     "name": "stdout",
     "output_type": "stream",
     "text": [
      "npa: [[ 5  0  0  0  0  0]\n",
      " [ 0 10  0  0  0  0]\n",
      " [ 0  0 15  0  0  0]\n",
      " [ 0  0  0 20  0  0]\n",
      " [ 0  0  0  0 25  0]\n",
      " [ 0  0  0  0  0 30]]\n"
     ]
    }
   ],
   "source": [
    "import numpy as np \n",
    "\n",
    "npa = np.diag(range(5,31,5))\n",
    "\n",
    "print(\"npa:\", npa)"
   ]
  },
  {
   "cell_type": "markdown",
   "id": "533c217e-479e-4b04-b008-6c674792f597",
   "metadata": {},
   "source": [
    "exersize 12: np.eye"
   ]
  },
  {
   "cell_type": "code",
   "execution_count": 9,
   "id": "22092bdb-d671-49f3-9a64-72cfc544efec",
   "metadata": {},
   "outputs": [
    {
     "name": "stdout",
     "output_type": "stream",
     "text": [
      "npa: [[1. 0. 0. 0. 0. 0. 0. 0. 0. 0.]\n",
      " [0. 1. 0. 0. 0. 0. 0. 0. 0. 0.]\n",
      " [0. 0. 1. 0. 0. 0. 0. 0. 0. 0.]\n",
      " [0. 0. 0. 1. 0. 0. 0. 0. 0. 0.]\n",
      " [0. 0. 0. 0. 1. 0. 0. 0. 0. 0.]\n",
      " [0. 0. 0. 0. 0. 1. 0. 0. 0. 0.]\n",
      " [0. 0. 0. 0. 0. 0. 1. 0. 0. 0.]\n",
      " [0. 0. 0. 0. 0. 0. 0. 1. 0. 0.]\n",
      " [0. 0. 0. 0. 0. 0. 0. 0. 1. 0.]\n",
      " [0. 0. 0. 0. 0. 0. 0. 0. 0. 1.]]\n",
      "npb: [[1. 0. 0. 0. 0. 0. 0. 0. 0. 0.]\n",
      " [0. 1. 0. 0. 0. 0. 0. 0. 0. 0.]\n",
      " [0. 0. 1. 0. 0. 0. 0. 0. 0. 0.]\n",
      " [0. 0. 0. 1. 0. 0. 0. 0. 0. 0.]\n",
      " [0. 0. 0. 0. 1. 0. 0. 0. 0. 0.]\n",
      " [0. 0. 0. 0. 0. 1. 0. 0. 0. 0.]\n",
      " [0. 0. 0. 0. 0. 0. 1. 0. 0. 0.]\n",
      " [0. 0. 0. 0. 0. 0. 0. 1. 0. 0.]\n",
      " [0. 0. 0. 0. 0. 0. 0. 0. 1. 0.]\n",
      " [0. 0. 0. 0. 0. 0. 0. 0. 0. 1.]]\n",
      "npb: [[1. 0. 0. 0. 0. 0. 0. 0. 0. 0.]\n",
      " [0. 1. 0. 0. 0. 0. 0. 0. 0. 0.]\n",
      " [0. 0. 1. 0. 0. 0. 0. 0. 0. 0.]\n",
      " [0. 0. 0. 1. 0. 0. 0. 0. 0. 0.]\n",
      " [0. 0. 0. 0. 1. 0. 0. 0. 0. 0.]\n",
      " [0. 0. 0. 0. 0. 1. 0. 0. 0. 0.]\n",
      " [0. 0. 0. 0. 0. 0. 1. 0. 0. 0.]\n",
      " [0. 0. 0. 0. 0. 0. 0. 1. 0. 0.]\n",
      " [0. 0. 0. 0. 0. 0. 0. 0. 1. 0.]\n",
      " [0. 0. 0. 0. 0. 0. 0. 0. 0. 1.]]\n"
     ]
    }
   ],
   "source": [
    "import numpy as np \n",
    "\n",
    "npa = np.eye(N=10,M=10, k=0) \n",
    "npb = np.eye(N=10)\n",
    "npc = np.identity(n = 10)\n",
    "print(\"npa:\", npa)\n",
    "print(\"npb:\", npb)\n",
    "print(\"npb:\", npc)"
   ]
  },
  {
   "cell_type": "markdown",
   "id": "674dae5a-3a4c-4a53-8f55-7abee737a6f1",
   "metadata": {},
   "source": [
    "exersize 13: Missing Exercise"
   ]
  },
  {
   "cell_type": "markdown",
   "id": "96470c9e-894c-4a30-b114-e94309b91478",
   "metadata": {},
   "source": [
    "exersize 14: np.sum"
   ]
  },
  {
   "cell_type": "code",
   "execution_count": 12,
   "id": "7e2688ae-2373-49a9-ba4f-fdfafb601223",
   "metadata": {},
   "outputs": [
    {
     "name": "stdout",
     "output_type": "stream",
     "text": [
      "Sum of the elements of array 1: 55\n",
      "Sum of the elements of array 2: 255.0\n",
      "Sum of the elements of array 3: 1275\n",
      "Sum of the elements of array 4: 10056552148.564463\n",
      "Sum of the elements of array 5: 105\n"
     ]
    }
   ],
   "source": [
    "import numpy as np\n",
    "array1 = np.arange(1,11)\n",
    "array2 = np.linspace(1,50,10)\n",
    "array3 = np.array(range(51))\n",
    "array4 = np.logspace(1,10,5)\n",
    "array5 = np.diag(range(5,31,5))\n",
    "\n",
    "print(f'Sum of the elements of array 1: {np.sum(array1)}')\n",
    "print(f'Sum of the elements of array 2: {np.sum(array2)}')\n",
    "print(f'Sum of the elements of array 3: {np.sum(array3)}')\n",
    "print(f'Sum of the elements of array 4: {np.sum(array4)}')\n",
    "print(f'Sum of the elements of array 5: {np.sum(array5)}')\n",
    " "
   ]
  },
  {
   "cell_type": "code",
   "execution_count": 17,
   "id": "5fc22643-147f-4ce5-b930-fb85e24e583e",
   "metadata": {},
   "outputs": [
    {
     "name": "stdout",
     "output_type": "stream",
     "text": [
      "Sum of the elements of array 1: 55\n",
      "Sum of the elements of array 2: 255.0\n",
      "Sum of the elements of array 3: 1275\n",
      "Sum of the elements of array 4: 10056552148.564463\n",
      "Sum of the elements of array 5: 105\n"
     ]
    }
   ],
   "source": [
    "import numpy as np\n",
    "array1 = np.arange(1,11)\n",
    "array2 = np.linspace(1,50,10)\n",
    "array3 = np.array(range(51))\n",
    "array4 = np.logspace(1,10,5)\n",
    "array5 = np.diag(range(5,31,5))\n",
    "\n",
    "arrays = [array1, array2, array3, array4, array5] \n",
    " \n",
    "for index, array  in  enumerate(arrays, start = 1):\n",
    "    print(f'Sum of the elements of array {index}: {array.sum()}') \n",
    "    counter+=1"
   ]
  },
  {
   "cell_type": "markdown",
   "id": "92baceaa-ce0c-40a0-8a75-f7e8e45873fd",
   "metadata": {},
   "source": [
    "exercise 15: sum of lines and columns"
   ]
  },
  {
   "cell_type": "code",
   "execution_count": 29,
   "id": "27342d0c-5e57-4455-b5d2-cb024443c70a",
   "metadata": {},
   "outputs": [
    {
     "name": "stdout",
     "output_type": "stream",
     "text": [
      "Sum of the elements of array: 539\n",
      "Sum of the elements of col 0 : 176\n",
      "Sum of the elements of col 1 : 140\n",
      "Sum of the elements of col 2 : 38\n",
      "Sum of the elements of col 3 : 77\n",
      "Sum of the elements of lines 0 : 176\n",
      "Sum of the elements of lines 1 : 140\n"
     ]
    },
    {
     "ename": "AttributeError",
     "evalue": "'numpy.ndarray' object has no attribute 'row'",
     "output_type": "error",
     "traceback": [
      "\u001b[1;31m---------------------------------------------------------------------------\u001b[0m",
      "\u001b[1;31mAttributeError\u001b[0m                            Traceback (most recent call last)",
      "Cell \u001b[1;32mIn[29], line 15\u001b[0m\n\u001b[0;32m     11\u001b[0m \u001b[38;5;28;01mfor\u001b[39;00m line \u001b[38;5;129;01min\u001b[39;00m \u001b[38;5;28mrange\u001b[39m( \u001b[38;5;241m0\u001b[39m, lines\u001b[38;5;241m-\u001b[39m\u001b[38;5;241m1\u001b[39m):\n\u001b[0;32m     12\u001b[0m     \u001b[38;5;28mprint\u001b[39m(\u001b[38;5;124mf\u001b[39m\u001b[38;5;124m'\u001b[39m\u001b[38;5;124mSum of the elements of lines \u001b[39m\u001b[38;5;132;01m{\u001b[39;00mline\u001b[38;5;132;01m}\u001b[39;00m\u001b[38;5;124m : \u001b[39m\u001b[38;5;132;01m{\u001b[39;00mmatrix[line]\u001b[38;5;241m.\u001b[39msum()\u001b[38;5;132;01m}\u001b[39;00m\u001b[38;5;124m'\u001b[39m)\n\u001b[1;32m---> 15\u001b[0m \u001b[43mmatrix\u001b[49m\u001b[38;5;241;43m.\u001b[39;49m\u001b[43mrow\u001b[49m\n",
      "\u001b[1;31mAttributeError\u001b[0m: 'numpy.ndarray' object has no attribute 'row'"
     ]
    }
   ],
   "source": [
    "import numpy as np\n",
    "matrix = np.array(np.random.randint(1,100,15)).reshape(5,3)\n",
    "\n",
    "print(f'Sum of the elements of array: {matrix.sum()}')\n",
    "\n",
    "(cols,lines ) =  matrix.shape \n",
    "\n",
    "for col in range( 0, cols-1):\n",
    "    print(f'Sum of the elements of col {col} : {matrix[col].sum()}')\n",
    "\n",
    "for line in range( 0, lines-1):\n",
    "    print(f'Sum of the elements of lines {line} : {matrix[line].sum()}')\n",
    "\n",
    "\n",
    "matrix.row"
   ]
  },
  {
   "cell_type": "code",
   "execution_count": null,
   "id": "7a3b2d37-7ea0-44c5-a0e6-d5b0bf9013b4",
   "metadata": {},
   "outputs": [],
   "source": []
  }
 ],
 "metadata": {
  "kernelspec": {
   "display_name": "Python 3 (ipykernel)",
   "language": "python",
   "name": "python3"
  },
  "language_info": {
   "codemirror_mode": {
    "name": "ipython",
    "version": 3
   },
   "file_extension": ".py",
   "mimetype": "text/x-python",
   "name": "python",
   "nbconvert_exporter": "python",
   "pygments_lexer": "ipython3",
   "version": "3.8.19"
  }
 },
 "nbformat": 4,
 "nbformat_minor": 5
}
