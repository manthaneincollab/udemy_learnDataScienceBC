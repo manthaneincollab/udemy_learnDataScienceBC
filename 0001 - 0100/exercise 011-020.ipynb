{
 "cells": [
  {
   "cell_type": "markdown",
   "id": "50473094-0861-4a65-9256-94171b8fda60",
   "metadata": {},
   "source": [
    "exersize 11: np.diag"
   ]
  },
  {
   "cell_type": "code",
   "execution_count": 6,
   "id": "324c495c-aa6a-4c4f-ba31-0e97851ca853",
   "metadata": {},
   "outputs": [
    {
     "name": "stdout",
     "output_type": "stream",
     "text": [
      "npa: [[ 5  0  0  0  0  0]\n",
      " [ 0 10  0  0  0  0]\n",
      " [ 0  0 15  0  0  0]\n",
      " [ 0  0  0 20  0  0]\n",
      " [ 0  0  0  0 25  0]\n",
      " [ 0  0  0  0  0 30]]\n"
     ]
    }
   ],
   "source": [
    "import numpy as np \n",
    "\n",
    "npa = np.diag(range(5,31,5))\n",
    "\n",
    "print(\"npa:\", npa)"
   ]
  },
  {
   "cell_type": "markdown",
   "id": "533c217e-479e-4b04-b008-6c674792f597",
   "metadata": {},
   "source": [
    "exersize 12: np.eye"
   ]
  },
  {
   "cell_type": "code",
   "execution_count": 9,
   "id": "22092bdb-d671-49f3-9a64-72cfc544efec",
   "metadata": {},
   "outputs": [
    {
     "name": "stdout",
     "output_type": "stream",
     "text": [
      "npa: [[1. 0. 0. 0. 0. 0. 0. 0. 0. 0.]\n",
      " [0. 1. 0. 0. 0. 0. 0. 0. 0. 0.]\n",
      " [0. 0. 1. 0. 0. 0. 0. 0. 0. 0.]\n",
      " [0. 0. 0. 1. 0. 0. 0. 0. 0. 0.]\n",
      " [0. 0. 0. 0. 1. 0. 0. 0. 0. 0.]\n",
      " [0. 0. 0. 0. 0. 1. 0. 0. 0. 0.]\n",
      " [0. 0. 0. 0. 0. 0. 1. 0. 0. 0.]\n",
      " [0. 0. 0. 0. 0. 0. 0. 1. 0. 0.]\n",
      " [0. 0. 0. 0. 0. 0. 0. 0. 1. 0.]\n",
      " [0. 0. 0. 0. 0. 0. 0. 0. 0. 1.]]\n",
      "npb: [[1. 0. 0. 0. 0. 0. 0. 0. 0. 0.]\n",
      " [0. 1. 0. 0. 0. 0. 0. 0. 0. 0.]\n",
      " [0. 0. 1. 0. 0. 0. 0. 0. 0. 0.]\n",
      " [0. 0. 0. 1. 0. 0. 0. 0. 0. 0.]\n",
      " [0. 0. 0. 0. 1. 0. 0. 0. 0. 0.]\n",
      " [0. 0. 0. 0. 0. 1. 0. 0. 0. 0.]\n",
      " [0. 0. 0. 0. 0. 0. 1. 0. 0. 0.]\n",
      " [0. 0. 0. 0. 0. 0. 0. 1. 0. 0.]\n",
      " [0. 0. 0. 0. 0. 0. 0. 0. 1. 0.]\n",
      " [0. 0. 0. 0. 0. 0. 0. 0. 0. 1.]]\n",
      "npb: [[1. 0. 0. 0. 0. 0. 0. 0. 0. 0.]\n",
      " [0. 1. 0. 0. 0. 0. 0. 0. 0. 0.]\n",
      " [0. 0. 1. 0. 0. 0. 0. 0. 0. 0.]\n",
      " [0. 0. 0. 1. 0. 0. 0. 0. 0. 0.]\n",
      " [0. 0. 0. 0. 1. 0. 0. 0. 0. 0.]\n",
      " [0. 0. 0. 0. 0. 1. 0. 0. 0. 0.]\n",
      " [0. 0. 0. 0. 0. 0. 1. 0. 0. 0.]\n",
      " [0. 0. 0. 0. 0. 0. 0. 1. 0. 0.]\n",
      " [0. 0. 0. 0. 0. 0. 0. 0. 1. 0.]\n",
      " [0. 0. 0. 0. 0. 0. 0. 0. 0. 1.]]\n"
     ]
    }
   ],
   "source": [
    "import numpy as np \n",
    "\n",
    "npa = np.eye(N=10,M=10, k=0) \n",
    "npb = np.eye(N=10)\n",
    "npc = np.identity(n = 10)\n",
    "print(\"npa:\", npa)\n",
    "print(\"npb:\", npb)\n",
    "print(\"npb:\", npc)"
   ]
  },
  {
   "cell_type": "markdown",
   "id": "674dae5a-3a4c-4a53-8f55-7abee737a6f1",
   "metadata": {},
   "source": [
    "exersize 13: Missing Exercise"
   ]
  },
  {
   "cell_type": "markdown",
   "id": "96470c9e-894c-4a30-b114-e94309b91478",
   "metadata": {},
   "source": [
    "exersize 14: np.sum"
   ]
  },
  {
   "cell_type": "code",
   "execution_count": 12,
   "id": "7e2688ae-2373-49a9-ba4f-fdfafb601223",
   "metadata": {},
   "outputs": [
    {
     "name": "stdout",
     "output_type": "stream",
     "text": [
      "Sum of the elements of array 1: 55\n",
      "Sum of the elements of array 2: 255.0\n",
      "Sum of the elements of array 3: 1275\n",
      "Sum of the elements of array 4: 10056552148.564463\n",
      "Sum of the elements of array 5: 105\n"
     ]
    }
   ],
   "source": [
    "import numpy as np\n",
    "array1 = np.arange(1,11)\n",
    "array2 = np.linspace(1,50,10)\n",
    "array3 = np.array(range(51))\n",
    "array4 = np.logspace(1,10,5)\n",
    "array5 = np.diag(range(5,31,5))\n",
    "\n",
    "print(f'Sum of the elements of array 1: {np.sum(array1)}')\n",
    "print(f'Sum of the elements of array 2: {np.sum(array2)}')\n",
    "print(f'Sum of the elements of array 3: {np.sum(array3)}')\n",
    "print(f'Sum of the elements of array 4: {np.sum(array4)}')\n",
    "print(f'Sum of the elements of array 5: {np.sum(array5)}')\n",
    " "
   ]
  },
  {
   "cell_type": "code",
   "execution_count": 17,
   "id": "5fc22643-147f-4ce5-b930-fb85e24e583e",
   "metadata": {},
   "outputs": [
    {
     "name": "stdout",
     "output_type": "stream",
     "text": [
      "Sum of the elements of array 1: 55\n",
      "Sum of the elements of array 2: 255.0\n",
      "Sum of the elements of array 3: 1275\n",
      "Sum of the elements of array 4: 10056552148.564463\n",
      "Sum of the elements of array 5: 105\n"
     ]
    }
   ],
   "source": [
    "import numpy as np\n",
    "array1 = np.arange(1,11)\n",
    "array2 = np.linspace(1,50,10)\n",
    "array3 = np.array(range(51))\n",
    "array4 = np.logspace(1,10,5)\n",
    "array5 = np.diag(range(5,31,5))\n",
    "\n",
    "arrays = [array1, array2, array3, array4, array5] \n",
    " \n",
    "for index, array  in  enumerate(arrays, start = 1):\n",
    "    print(f'Sum of the elements of array {index}: {array.sum()}') \n",
    "    counter+=1"
   ]
  },
  {
   "cell_type": "markdown",
   "id": "92baceaa-ce0c-40a0-8a75-f7e8e45873fd",
   "metadata": {},
   "source": [
    "exercise 15: sum of lines and columns"
   ]
  },
  {
   "cell_type": "code",
   "execution_count": 30,
   "id": "27342d0c-5e57-4455-b5d2-cb024443c70a",
   "metadata": {},
   "outputs": [
    {
     "name": "stdout",
     "output_type": "stream",
     "text": [
      "Total sum of elements:  855\n",
      "Sum of lines:  [139 208 175 144 189]\n",
      "Sum of columns:  [297 200 358]\n"
     ]
    }
   ],
   "source": [
    "import numpy as np\n",
    "matrix = np.array(np.random.randint(1,100,15)).reshape(5,3)\n",
    "\n",
    "print('Total sum of elements: ', matrix.sum())\n",
    "print('Sum of lines: ', matrix.sum(axis = 1))\n",
    "print('Sum of columns: ', matrix.sum(axis = 0))\n",
    "\n",
    " "
   ]
  },
  {
   "attachments": {},
   "cell_type": "markdown",
   "id": "3d1867e8-c623-42ae-af4b-61d567e106fe",
   "metadata": {},
   "source": [
    "exersize 16: Min and Max "
   ]
  },
  {
   "cell_type": "code",
   "execution_count": 31,
   "id": "7a3b2d37-7ea0-44c5-a0e6-d5b0bf9013b4",
   "metadata": {},
   "outputs": [
    {
     "name": "stdout",
     "output_type": "stream",
     "text": [
      "array 1 min: -1  max: 27\n",
      "array 2 min: -80  max: 293\n",
      "array 3 min: -1.1451224335463985  max: 1.5411745593841455\n",
      "array 4 min: 12  max: 50\n"
     ]
    }
   ],
   "source": [
    "import numpy as np\n",
    "array1 = np.array([-1, 10, 3, 4, 7, 27])\n",
    "array2 = np.random.randint(-100,300,30)\n",
    "array3 = np.random.randn(10)\n",
    "array4 = np.array(range(50,10,-2))\n",
    "\n",
    "arrays = [array1, array2, array3, array4] \n",
    " \n",
    "for index, array  in  enumerate(arrays, start = 1):\n",
    "    print(f'array {index} min: {array.min()}  max: {array.max()}') \n",
    "    counter+=1"
   ]
  },
  {
   "cell_type": "markdown",
   "id": "4d82f755-a7b3-422a-8b27-58bed5c78ea6",
   "metadata": {},
   "source": [
    "exersize 17: matrix calculation"
   ]
  },
  {
   "cell_type": "code",
   "execution_count": 37,
   "id": "8366f4de-e372-4aa6-b6bd-c1a13478a23e",
   "metadata": {},
   "outputs": [
    {
     "name": "stdout",
     "output_type": "stream",
     "text": [
      "[[  62 -445  574  792 -769]\n",
      " [ 989 -249  945  897  895]\n",
      " [ 328  995 -229  844  -15]\n",
      " [-875  721   77  910  871]\n",
      " [-284  580   54  491 -839]\n",
      " [ 687 -450 -317 -610  339]\n",
      " [-476  207  597 -704 -717]\n",
      " [ 865 -454  867 -972 -949]\n",
      " [-786   92  973 -241   40]\n",
      " [-221  977 -350 -405 -510]]\n",
      "Maximum value of the matrix:  995\n",
      "Maximum value per column:   [989 995 973 910 895]\n",
      "Maximum value per line:    [792 989 995 910 580 687 597 867 973 977]\n",
      "Minimum value of the matrix:   -972\n",
      "Minimum value per column:    [-875 -454 -350 -972 -949]\n",
      "Minimum value per line:   [-769 -249 -229 -875 -839 -610 -717 -972 -786 -510]\n"
     ]
    }
   ],
   "source": [
    "import numpy as np\n",
    "\n",
    "def info_array(array):\n",
    "    print(array) \n",
    "    print(f'Maximum value of the matrix:  {array.max()}')\n",
    "    print(f'Maximum value per column:   {array.max(axis=0)}')\n",
    "    print(f'Maximum value per line:    {array.max(axis=1)}')\n",
    "    print(f'Minimum value of the matrix:   {array.min()}')\n",
    "    print(f'Minimum value per column:    {array.min(axis=0)}')\n",
    "    print(f'Minimum value per line:   {array.min(axis=1)}')\n",
    "\n",
    "matrix = np.random.randint(-1000,1000,50).reshape(10,5)\n",
    "info_array(matrix)\n",
    "\n",
    "\n"
   ]
  },
  {
   "cell_type": "code",
   "execution_count": null,
   "id": "46039994-cf19-48b2-b3d1-c9abf4fd9bb1",
   "metadata": {},
   "outputs": [],
   "source": []
  }
 ],
 "metadata": {
  "kernelspec": {
   "display_name": "Python 3 (ipykernel)",
   "language": "python",
   "name": "python3"
  },
  "language_info": {
   "codemirror_mode": {
    "name": "ipython",
    "version": 3
   },
   "file_extension": ".py",
   "mimetype": "text/x-python",
   "name": "python",
   "nbconvert_exporter": "python",
   "pygments_lexer": "ipython3",
   "version": "3.8.19"
  }
 },
 "nbformat": 4,
 "nbformat_minor": 5
}
